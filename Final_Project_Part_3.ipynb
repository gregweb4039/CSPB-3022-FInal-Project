{
 "cells": [
  {
   "cell_type": "code",
   "execution_count": 1,
   "id": "d6440b9e",
   "metadata": {},
   "outputs": [],
   "source": [
    "import pandas as pd\n",
    "import numpy as np\n",
    "import matplotlib.pyplot as plt\n",
    "import scipy as sp\n",
    "import scipy.stats as stats\n",
    "import seaborn as sns\n",
    "import statsmodels.formula.api as smf\n",
    "import statsmodels.api as sm"
   ]
  },
  {
   "cell_type": "markdown",
   "id": "1c590fea",
   "metadata": {},
   "source": [
    "# Project Description\n",
    "\n",
    "This project aims to predict the price of a car based on several features. The features in the dataset include name, year, price, kilometers, fuel type, seller type, transmission type, and how many owners the car has had. Because price is a continuous variable, this would be a regression problem and not a classification problem.\n"
   ]
  },
  {
   "cell_type": "code",
   "execution_count": 41,
   "id": "99b59f75",
   "metadata": {},
   "outputs": [
    {
     "data": {
      "text/html": [
       "<div>\n",
       "<style scoped>\n",
       "    .dataframe tbody tr th:only-of-type {\n",
       "        vertical-align: middle;\n",
       "    }\n",
       "\n",
       "    .dataframe tbody tr th {\n",
       "        vertical-align: top;\n",
       "    }\n",
       "\n",
       "    .dataframe thead th {\n",
       "        text-align: right;\n",
       "    }\n",
       "</style>\n",
       "<table border=\"1\" class=\"dataframe\">\n",
       "  <thead>\n",
       "    <tr style=\"text-align: right;\">\n",
       "      <th></th>\n",
       "      <th>name</th>\n",
       "      <th>year</th>\n",
       "      <th>selling_price</th>\n",
       "      <th>km_driven</th>\n",
       "      <th>fuel</th>\n",
       "      <th>seller_type</th>\n",
       "      <th>transmission</th>\n",
       "      <th>owner</th>\n",
       "    </tr>\n",
       "  </thead>\n",
       "  <tbody>\n",
       "    <tr>\n",
       "      <th>0</th>\n",
       "      <td>Maruti 800 AC</td>\n",
       "      <td>2007</td>\n",
       "      <td>60000</td>\n",
       "      <td>70000</td>\n",
       "      <td>Petrol</td>\n",
       "      <td>Individual</td>\n",
       "      <td>Manual</td>\n",
       "      <td>First Owner</td>\n",
       "    </tr>\n",
       "    <tr>\n",
       "      <th>1</th>\n",
       "      <td>Maruti Wagon R LXI Minor</td>\n",
       "      <td>2007</td>\n",
       "      <td>135000</td>\n",
       "      <td>50000</td>\n",
       "      <td>Petrol</td>\n",
       "      <td>Individual</td>\n",
       "      <td>Manual</td>\n",
       "      <td>First Owner</td>\n",
       "    </tr>\n",
       "    <tr>\n",
       "      <th>2</th>\n",
       "      <td>Hyundai Verna 1.6 SX</td>\n",
       "      <td>2012</td>\n",
       "      <td>600000</td>\n",
       "      <td>100000</td>\n",
       "      <td>Diesel</td>\n",
       "      <td>Individual</td>\n",
       "      <td>Manual</td>\n",
       "      <td>First Owner</td>\n",
       "    </tr>\n",
       "    <tr>\n",
       "      <th>3</th>\n",
       "      <td>Datsun RediGO T Option</td>\n",
       "      <td>2017</td>\n",
       "      <td>250000</td>\n",
       "      <td>46000</td>\n",
       "      <td>Petrol</td>\n",
       "      <td>Individual</td>\n",
       "      <td>Manual</td>\n",
       "      <td>First Owner</td>\n",
       "    </tr>\n",
       "    <tr>\n",
       "      <th>4</th>\n",
       "      <td>Honda Amaze VX i-DTEC</td>\n",
       "      <td>2014</td>\n",
       "      <td>450000</td>\n",
       "      <td>141000</td>\n",
       "      <td>Diesel</td>\n",
       "      <td>Individual</td>\n",
       "      <td>Manual</td>\n",
       "      <td>Second Owner</td>\n",
       "    </tr>\n",
       "  </tbody>\n",
       "</table>\n",
       "</div>"
      ],
      "text/plain": [
       "                       name  year  selling_price  km_driven    fuel  \\\n",
       "0             Maruti 800 AC  2007          60000      70000  Petrol   \n",
       "1  Maruti Wagon R LXI Minor  2007         135000      50000  Petrol   \n",
       "2      Hyundai Verna 1.6 SX  2012         600000     100000  Diesel   \n",
       "3    Datsun RediGO T Option  2017         250000      46000  Petrol   \n",
       "4     Honda Amaze VX i-DTEC  2014         450000     141000  Diesel   \n",
       "\n",
       "  seller_type transmission         owner  \n",
       "0  Individual       Manual   First Owner  \n",
       "1  Individual       Manual   First Owner  \n",
       "2  Individual       Manual   First Owner  \n",
       "3  Individual       Manual   First Owner  \n",
       "4  Individual       Manual  Second Owner  "
      ]
     },
     "execution_count": 41,
     "metadata": {},
     "output_type": "execute_result"
    }
   ],
   "source": [
    "car_data = pd.read_csv('../Downloads/CAR DETAILS FROM CAR DEKHO.csv')\n",
    "car_data.head()"
   ]
  },
  {
   "cell_type": "markdown",
   "id": "64ab9275",
   "metadata": {},
   "source": [
    "# Examining the Dataset\n",
    "\n",
    "AKSHAY DATTATRAY KHARE (October 2022). Car Details Dataset.\n",
    "\n",
    "Retrieved November 2022 from https://www.kaggle.com/datasets/akshaydattatraykhare/car-details-dataset.\n",
    "\n",
    "\n",
    "I found the data via kaggle and the data was sourced from Car Dekho. "
   ]
  },
  {
   "cell_type": "markdown",
   "id": "20146ba9",
   "metadata": {},
   "source": [
    "### Overview of Data Types and Shape\n",
    "\n",
    "The dataset includes 4340 car entries with the 8 total attributes for each car. There are "
   ]
  },
  {
   "cell_type": "code",
   "execution_count": 42,
   "id": "0c2c3bd8",
   "metadata": {},
   "outputs": [
    {
     "name": "stdout",
     "output_type": "stream",
     "text": [
      "<class 'pandas.core.frame.DataFrame'>\n",
      "RangeIndex: 4340 entries, 0 to 4339\n",
      "Data columns (total 8 columns):\n",
      " #   Column         Non-Null Count  Dtype \n",
      "---  ------         --------------  ----- \n",
      " 0   name           4340 non-null   object\n",
      " 1   year           4340 non-null   int64 \n",
      " 2   selling_price  4340 non-null   int64 \n",
      " 3   km_driven      4340 non-null   int64 \n",
      " 4   fuel           4340 non-null   object\n",
      " 5   seller_type    4340 non-null   object\n",
      " 6   transmission   4340 non-null   object\n",
      " 7   owner          4340 non-null   object\n",
      "dtypes: int64(3), object(5)\n",
      "memory usage: 271.4+ KB\n"
     ]
    }
   ],
   "source": [
    "car_data.info()"
   ]
  },
  {
   "cell_type": "markdown",
   "id": "552709e4",
   "metadata": {},
   "source": [
    "### Checking for Null Values\n",
    "The data is very clean, with no null values in any of the columns."
   ]
  },
  {
   "cell_type": "code",
   "execution_count": 43,
   "id": "8e64ddc7",
   "metadata": {},
   "outputs": [
    {
     "data": {
      "text/plain": [
       "name             0\n",
       "year             0\n",
       "selling_price    0\n",
       "km_driven        0\n",
       "fuel             0\n",
       "seller_type      0\n",
       "transmission     0\n",
       "owner            0\n",
       "dtype: int64"
      ]
     },
     "execution_count": 43,
     "metadata": {},
     "output_type": "execute_result"
    }
   ],
   "source": [
    "car_data.isnull().sum()"
   ]
  },
  {
   "cell_type": "markdown",
   "id": "715dbcd6",
   "metadata": {},
   "source": [
    "### Categorical Attribute Values:\n",
    "3 of the attributes are integers (year, selling_price, and km_driven), and 5 are categorical(name, fuel type, seller type, transmission type, and owner type). "
   ]
  },
  {
   "cell_type": "code",
   "execution_count": 44,
   "id": "4069f24c",
   "metadata": {},
   "outputs": [
    {
     "name": "stdout",
     "output_type": "stream",
     "text": [
      "Categorical Variable Attributes:\n",
      "\n",
      "Number of Vehicle Types:  1491\n",
      "Fuel Types:  ['Petrol' 'Diesel' 'CNG' 'LPG' 'Electric']\n",
      "Seller Types:  ['Individual' 'Dealer' 'Trustmark Dealer']\n",
      "Transmission Types:  ['Manual' 'Automatic']\n",
      "Owner Types:  ['First Owner' 'Second Owner' 'Fourth & Above Owner' 'Third Owner'\n",
      " 'Test Drive Car']\n"
     ]
    }
   ],
   "source": [
    "print(\"Categorical Variable Attributes:\\n\")\n",
    "print(\"Number of Vehicle Types: \", len(car_data.name.unique()))\n",
    "print(\"Fuel Types: \", car_data.fuel.unique())\n",
    "print(\"Seller Types: \", car_data.seller_type.unique())\n",
    "print(\"Transmission Types: \", car_data.transmission.unique())\n",
    "print(\"Owner Types: \", car_data.owner.unique())"
   ]
  },
  {
   "cell_type": "markdown",
   "id": "eca960e8",
   "metadata": {},
   "source": [
    "### Integer Attribute Values\n",
    "\n",
    "Below is a description of the numerican data:"
   ]
  },
  {
   "cell_type": "code",
   "execution_count": 45,
   "id": "c2b55fcc",
   "metadata": {},
   "outputs": [
    {
     "data": {
      "text/html": [
       "<div>\n",
       "<style scoped>\n",
       "    .dataframe tbody tr th:only-of-type {\n",
       "        vertical-align: middle;\n",
       "    }\n",
       "\n",
       "    .dataframe tbody tr th {\n",
       "        vertical-align: top;\n",
       "    }\n",
       "\n",
       "    .dataframe thead th {\n",
       "        text-align: right;\n",
       "    }\n",
       "</style>\n",
       "<table border=\"1\" class=\"dataframe\">\n",
       "  <thead>\n",
       "    <tr style=\"text-align: right;\">\n",
       "      <th></th>\n",
       "      <th>year</th>\n",
       "      <th>selling_price</th>\n",
       "      <th>km_driven</th>\n",
       "    </tr>\n",
       "  </thead>\n",
       "  <tbody>\n",
       "    <tr>\n",
       "      <th>count</th>\n",
       "      <td>4340.0</td>\n",
       "      <td>4340.0</td>\n",
       "      <td>4340.0</td>\n",
       "    </tr>\n",
       "    <tr>\n",
       "      <th>mean</th>\n",
       "      <td>2013.0</td>\n",
       "      <td>504127.0</td>\n",
       "      <td>66216.0</td>\n",
       "    </tr>\n",
       "    <tr>\n",
       "      <th>std</th>\n",
       "      <td>4.0</td>\n",
       "      <td>578549.0</td>\n",
       "      <td>46644.0</td>\n",
       "    </tr>\n",
       "    <tr>\n",
       "      <th>min</th>\n",
       "      <td>1992.0</td>\n",
       "      <td>20000.0</td>\n",
       "      <td>1.0</td>\n",
       "    </tr>\n",
       "    <tr>\n",
       "      <th>25%</th>\n",
       "      <td>2011.0</td>\n",
       "      <td>208750.0</td>\n",
       "      <td>35000.0</td>\n",
       "    </tr>\n",
       "    <tr>\n",
       "      <th>50%</th>\n",
       "      <td>2014.0</td>\n",
       "      <td>350000.0</td>\n",
       "      <td>60000.0</td>\n",
       "    </tr>\n",
       "    <tr>\n",
       "      <th>75%</th>\n",
       "      <td>2016.0</td>\n",
       "      <td>600000.0</td>\n",
       "      <td>90000.0</td>\n",
       "    </tr>\n",
       "    <tr>\n",
       "      <th>max</th>\n",
       "      <td>2020.0</td>\n",
       "      <td>8900000.0</td>\n",
       "      <td>806599.0</td>\n",
       "    </tr>\n",
       "  </tbody>\n",
       "</table>\n",
       "</div>"
      ],
      "text/plain": [
       "         year  selling_price  km_driven\n",
       "count  4340.0         4340.0     4340.0\n",
       "mean   2013.0       504127.0    66216.0\n",
       "std       4.0       578549.0    46644.0\n",
       "min    1992.0        20000.0        1.0\n",
       "25%    2011.0       208750.0    35000.0\n",
       "50%    2014.0       350000.0    60000.0\n",
       "75%    2016.0       600000.0    90000.0\n",
       "max    2020.0      8900000.0   806599.0"
      ]
     },
     "execution_count": 45,
     "metadata": {},
     "output_type": "execute_result"
    }
   ],
   "source": [
    "car_data.describe().round()"
   ]
  },
  {
   "cell_type": "markdown",
   "id": "487335e7",
   "metadata": {},
   "source": [
    "# Data Cleaning"
   ]
  },
  {
   "cell_type": "markdown",
   "id": "2aecb903",
   "metadata": {},
   "source": [
    "### Converting Units\n",
    "\n",
    "The currency used was not mentioned, but when I looked up Car Dekho, I learned that it is a website for buying and selling used cars in India. Because of this, I will:\n",
    "\n",
    "1) Convert the currency from rupees to dollars by multiplying by the conversion rate of 0.012.\n",
    "\n",
    "2) Convert km_driven to mi_driven by multiplying by the conversion rate of 0.621371.\n",
    "\n",
    "3) Convert owner type from a categorical value to an integer value."
   ]
  },
  {
   "cell_type": "code",
   "execution_count": 46,
   "id": "603fd422",
   "metadata": {},
   "outputs": [],
   "source": [
    "#1) Convert to USD:\n",
    "\n",
    "rupee_to_usd_conversion = 0.012\n",
    "\n",
    "car_data.selling_price = car_data.selling_price*rupee_to_usd_conversion\n",
    "car_data.selling_price = car_data.selling_price.astype(int)"
   ]
  },
  {
   "cell_type": "code",
   "execution_count": 47,
   "id": "9901d2fd",
   "metadata": {},
   "outputs": [],
   "source": [
    "#2) Convert to Miles:\n",
    "\n",
    "km_to_mi_conversion = 0.621371\n",
    "\n",
    "car_data.km_driven = car_data.km_driven*km_to_mi_conversion\n",
    "car_data.km_driven = car_data.km_driven.astype('int')\n",
    "car_data = car_data.rename(columns={'km_driven':'mi_driven'})"
   ]
  },
  {
   "cell_type": "code",
   "execution_count": 48,
   "id": "af7341be",
   "metadata": {},
   "outputs": [],
   "source": [
    "#3) Convert owner type to an integer value:\n",
    "\n",
    "mapping = {'Test Drive Car': int(0),\n",
    "           'First Owner': int(1),\n",
    "           'Second Owner': int(2),\n",
    "           'Third Owner': int(3),\n",
    "           'Fourth & Above Owner': int(4)}\n",
    "\n",
    "car_data['owner'] = car_data['owner'].map(mapping)"
   ]
  },
  {
   "cell_type": "code",
   "execution_count": 49,
   "id": "2ec9c2ee",
   "metadata": {},
   "outputs": [
    {
     "data": {
      "text/html": [
       "<div>\n",
       "<style scoped>\n",
       "    .dataframe tbody tr th:only-of-type {\n",
       "        vertical-align: middle;\n",
       "    }\n",
       "\n",
       "    .dataframe tbody tr th {\n",
       "        vertical-align: top;\n",
       "    }\n",
       "\n",
       "    .dataframe thead th {\n",
       "        text-align: right;\n",
       "    }\n",
       "</style>\n",
       "<table border=\"1\" class=\"dataframe\">\n",
       "  <thead>\n",
       "    <tr style=\"text-align: right;\">\n",
       "      <th></th>\n",
       "      <th>name</th>\n",
       "      <th>year</th>\n",
       "      <th>selling_price</th>\n",
       "      <th>mi_driven</th>\n",
       "      <th>fuel</th>\n",
       "      <th>seller_type</th>\n",
       "      <th>transmission</th>\n",
       "      <th>owner</th>\n",
       "    </tr>\n",
       "  </thead>\n",
       "  <tbody>\n",
       "    <tr>\n",
       "      <th>0</th>\n",
       "      <td>Maruti 800 AC</td>\n",
       "      <td>2007</td>\n",
       "      <td>720</td>\n",
       "      <td>43495</td>\n",
       "      <td>Petrol</td>\n",
       "      <td>Individual</td>\n",
       "      <td>Manual</td>\n",
       "      <td>1</td>\n",
       "    </tr>\n",
       "    <tr>\n",
       "      <th>1</th>\n",
       "      <td>Maruti Wagon R LXI Minor</td>\n",
       "      <td>2007</td>\n",
       "      <td>1620</td>\n",
       "      <td>31068</td>\n",
       "      <td>Petrol</td>\n",
       "      <td>Individual</td>\n",
       "      <td>Manual</td>\n",
       "      <td>1</td>\n",
       "    </tr>\n",
       "    <tr>\n",
       "      <th>2</th>\n",
       "      <td>Hyundai Verna 1.6 SX</td>\n",
       "      <td>2012</td>\n",
       "      <td>7200</td>\n",
       "      <td>62137</td>\n",
       "      <td>Diesel</td>\n",
       "      <td>Individual</td>\n",
       "      <td>Manual</td>\n",
       "      <td>1</td>\n",
       "    </tr>\n",
       "    <tr>\n",
       "      <th>3</th>\n",
       "      <td>Datsun RediGO T Option</td>\n",
       "      <td>2017</td>\n",
       "      <td>3000</td>\n",
       "      <td>28583</td>\n",
       "      <td>Petrol</td>\n",
       "      <td>Individual</td>\n",
       "      <td>Manual</td>\n",
       "      <td>1</td>\n",
       "    </tr>\n",
       "    <tr>\n",
       "      <th>4</th>\n",
       "      <td>Honda Amaze VX i-DTEC</td>\n",
       "      <td>2014</td>\n",
       "      <td>5400</td>\n",
       "      <td>87613</td>\n",
       "      <td>Diesel</td>\n",
       "      <td>Individual</td>\n",
       "      <td>Manual</td>\n",
       "      <td>2</td>\n",
       "    </tr>\n",
       "  </tbody>\n",
       "</table>\n",
       "</div>"
      ],
      "text/plain": [
       "                       name  year  selling_price  mi_driven    fuel  \\\n",
       "0             Maruti 800 AC  2007            720      43495  Petrol   \n",
       "1  Maruti Wagon R LXI Minor  2007           1620      31068  Petrol   \n",
       "2      Hyundai Verna 1.6 SX  2012           7200      62137  Diesel   \n",
       "3    Datsun RediGO T Option  2017           3000      28583  Petrol   \n",
       "4     Honda Amaze VX i-DTEC  2014           5400      87613  Diesel   \n",
       "\n",
       "  seller_type transmission  owner  \n",
       "0  Individual       Manual      1  \n",
       "1  Individual       Manual      1  \n",
       "2  Individual       Manual      1  \n",
       "3  Individual       Manual      1  \n",
       "4  Individual       Manual      2  "
      ]
     },
     "execution_count": 49,
     "metadata": {},
     "output_type": "execute_result"
    }
   ],
   "source": [
    "car_data.head()"
   ]
  },
  {
   "cell_type": "markdown",
   "id": "85b5cc62",
   "metadata": {},
   "source": [
    "### Derriving Categorical Value for Luxury, Standard and Budget Brand Cars\n",
    "\n",
    "I want to examine whether or not classifying cars as budget, standard, or luxury cars would be helpful for the model. To do this I will:\n",
    "\n",
    "1) Adjust the name attribute to only include the car brand\n",
    "\n",
    "2) Group the cars by brand and calculate the mean selling price for each brand\n",
    "\n",
    "3) Identify the 25th and 75th percentile\n",
    "\n",
    "4) Label the brands that are in the 66th percentile or above as luxury brands, brands that are in the 33rd percentile or below as budget brands, and brands that are between the 33rd and 66th percentile as standard brands."
   ]
  },
  {
   "cell_type": "code",
   "execution_count": 50,
   "id": "9f4123fd",
   "metadata": {},
   "outputs": [
    {
     "name": "stdout",
     "output_type": "stream",
     "text": [
      "0        Maruti\n",
      "1        Maruti\n",
      "2       Hyundai\n",
      "3        Datsun\n",
      "4         Honda\n",
      "         ...   \n",
      "4335    Hyundai\n",
      "4336    Hyundai\n",
      "4337     Maruti\n",
      "4338    Hyundai\n",
      "4339    Renault\n",
      "Name: name, Length: 4340, dtype: object\n"
     ]
    }
   ],
   "source": [
    "#1) Adjust Name Attribute to only include the car brand\n",
    "car_data['name'] = car_data['name'].str.split().str[0]\n",
    "print(car_data['name'])"
   ]
  },
  {
   "cell_type": "code",
   "execution_count": 51,
   "id": "a613a533",
   "metadata": {},
   "outputs": [
    {
     "name": "stdout",
     "output_type": "stream",
     "text": [
      "Average Price By Brand:  name\n",
      "Ambassador        2160\n",
      "Audi             23179\n",
      "BMW              35344\n",
      "Chevrolet         2840\n",
      "Daewoo             720\n",
      "Datsun            3564\n",
      "Fiat              3401\n",
      "Force             4152\n",
      "Ford              6855\n",
      "Honda             6457\n",
      "Hyundai           5039\n",
      "Isuzu            18000\n",
      "Jaguar           24829\n",
      "Jeep             18360\n",
      "Kia              15600\n",
      "Land             43317\n",
      "MG               22110\n",
      "Mahindra          7052\n",
      "Maruti            4108\n",
      "Mercedes-Benz    33319\n",
      "Mitsubishi       10080\n",
      "Nissan            5399\n",
      "OpelCorsa         1062\n",
      "Renault           5032\n",
      "Skoda             5880\n",
      "Tata              3408\n",
      "Toyota           11092\n",
      "Volkswagen        5652\n",
      "Volvo            30675\n",
      "Name: selling_price, dtype: int64\n"
     ]
    }
   ],
   "source": [
    "#2) Group Cars by brand and calculate the mean selling price for each brand\n",
    "grouped_cars = car_data.groupby('name')\n",
    "mean_price_by_brand = grouped_cars.selling_price.mean()\n",
    "print(\"Average Price By Brand: \", mean_price_by_brand.astype(int))"
   ]
  },
  {
   "cell_type": "code",
   "execution_count": 52,
   "id": "94c7449f",
   "metadata": {},
   "outputs": [
    {
     "name": "stdout",
     "output_type": "stream",
     "text": [
      "Value of 25th Percentile:  5034\n",
      "Value of 75th Percentile:  13255\n"
     ]
    }
   ],
   "source": [
    "#3) Identify the 25th and 75th percentiles.\n",
    "percentile_cutoff33 = np.percentile(mean_price_by_brand, 33)\n",
    "print(\"Value of 33rd Percentile: \", int(percentile_cutoff25))\n",
    "\n",
    "percentile_cutoff66 = np.percentile(mean_price_by_brand, 66)\n",
    "print(\"Value of 66th Percentile: \", int(percentile_cutoff75))"
   ]
  },
  {
   "cell_type": "code",
   "execution_count": 53,
   "id": "addf9ca9",
   "metadata": {},
   "outputs": [
    {
     "name": "stdout",
     "output_type": "stream",
     "text": [
      "Budget Brands Include:  ['Ambassador', 'Chevrolet', 'Daewoo', 'Datsun', 'Fiat', 'Force', 'Maruti', 'OpelCorsa', 'Renault', 'Tata'] \n",
      "\n",
      "Standard Brands Include:  ['Ford', 'Honda', 'Hyundai', 'Mahindra', 'Mitsubishi', 'Nissan', 'Skoda', 'Toyota', 'Volkswagen'] \n",
      "\n",
      "Luxury Brands Include:  ['Audi', 'BMW', 'Isuzu', 'Jaguar', 'Jeep', 'Kia', 'Land', 'MG', 'Mercedes-Benz', 'Volvo'] \n",
      "\n"
     ]
    }
   ],
   "source": [
    "#4) Labeling brands as budget, standard, and luxury based on percentile of mean selling type by brand.\n",
    "luxury = []\n",
    "budget = []\n",
    "standard = []\n",
    "for brand, price in mean_price_by_brand.iteritems():\n",
    "    if price >= percentile_cutoff66:\n",
    "        luxury.append(brand)\n",
    "    if price <= percentile_cutoff33:\n",
    "        budget.append(brand)\n",
    "    if price > percentile_cutoff33 and price < percentile_cutoff66:\n",
    "        standard.append(brand)\n",
    "\n",
    "print(\"Budget Brands Include: \", budget, \"\\n\")\n",
    "print(\"Standard Brands Include: \", standard, \"\\n\")\n",
    "print(\"Luxury Brands Include: \", luxury, \"\\n\")"
   ]
  },
  {
   "cell_type": "code",
   "execution_count": 54,
   "id": "a17d81f6",
   "metadata": {},
   "outputs": [
    {
     "name": "stdout",
     "output_type": "stream",
     "text": [
      "      name  year  selling_price  mi_driven    fuel seller_type transmission  \\\n",
      "0   Maruti  2007            720      43495  Petrol  Individual       Manual   \n",
      "1   Maruti  2007           1620      31068  Petrol  Individual       Manual   \n",
      "2  Hyundai  2012           7200      62137  Diesel  Individual       Manual   \n",
      "3   Datsun  2017           3000      28583  Petrol  Individual       Manual   \n",
      "4    Honda  2014           5400      87613  Diesel  Individual       Manual   \n",
      "\n",
      "   owner car_class  \n",
      "0      1    Budget  \n",
      "1      1    Budget  \n",
      "2      1  Standard  \n",
      "3      1    Budget  \n",
      "4      2  Standard  \n"
     ]
    }
   ],
   "source": [
    "#5) Create new column for class of car in the dataframe.\n",
    "car_class = []\n",
    "\n",
    "for name in car_data.name:\n",
    "    if name in budget:\n",
    "        car_class.append('Budget')\n",
    "    if name in standard:\n",
    "        car_class.append('Standard')\n",
    "    if name in luxury:\n",
    "        car_class.append(\"Luxury\")\n",
    "\n",
    "car_data['car_class'] = car_class\n",
    "\n",
    "print(car_data.head())"
   ]
  },
  {
   "cell_type": "markdown",
   "id": "a179dcb4",
   "metadata": {},
   "source": [
    "### Examining Outliers"
   ]
  },
  {
   "cell_type": "code",
   "execution_count": 55,
   "id": "34a9045b",
   "metadata": {},
   "outputs": [
    {
     "data": {
      "text/html": [
       "<div>\n",
       "<style scoped>\n",
       "    .dataframe tbody tr th:only-of-type {\n",
       "        vertical-align: middle;\n",
       "    }\n",
       "\n",
       "    .dataframe tbody tr th {\n",
       "        vertical-align: top;\n",
       "    }\n",
       "\n",
       "    .dataframe thead th {\n",
       "        text-align: right;\n",
       "    }\n",
       "</style>\n",
       "<table border=\"1\" class=\"dataframe\">\n",
       "  <thead>\n",
       "    <tr style=\"text-align: right;\">\n",
       "      <th></th>\n",
       "      <th>year</th>\n",
       "      <th>selling_price</th>\n",
       "      <th>mi_driven</th>\n",
       "      <th>owner</th>\n",
       "    </tr>\n",
       "  </thead>\n",
       "  <tbody>\n",
       "    <tr>\n",
       "      <th>count</th>\n",
       "      <td>4340.0</td>\n",
       "      <td>4340.0</td>\n",
       "      <td>4340.0</td>\n",
       "      <td>4340.0</td>\n",
       "    </tr>\n",
       "    <tr>\n",
       "      <th>mean</th>\n",
       "      <td>2013.0</td>\n",
       "      <td>6049.0</td>\n",
       "      <td>41144.0</td>\n",
       "      <td>1.0</td>\n",
       "    </tr>\n",
       "    <tr>\n",
       "      <th>std</th>\n",
       "      <td>4.0</td>\n",
       "      <td>6943.0</td>\n",
       "      <td>28983.0</td>\n",
       "      <td>1.0</td>\n",
       "    </tr>\n",
       "    <tr>\n",
       "      <th>min</th>\n",
       "      <td>1992.0</td>\n",
       "      <td>240.0</td>\n",
       "      <td>0.0</td>\n",
       "      <td>0.0</td>\n",
       "    </tr>\n",
       "    <tr>\n",
       "      <th>25%</th>\n",
       "      <td>2011.0</td>\n",
       "      <td>2505.0</td>\n",
       "      <td>21747.0</td>\n",
       "      <td>1.0</td>\n",
       "    </tr>\n",
       "    <tr>\n",
       "      <th>50%</th>\n",
       "      <td>2014.0</td>\n",
       "      <td>4200.0</td>\n",
       "      <td>37282.0</td>\n",
       "      <td>1.0</td>\n",
       "    </tr>\n",
       "    <tr>\n",
       "      <th>75%</th>\n",
       "      <td>2016.0</td>\n",
       "      <td>7200.0</td>\n",
       "      <td>55923.0</td>\n",
       "      <td>2.0</td>\n",
       "    </tr>\n",
       "    <tr>\n",
       "      <th>max</th>\n",
       "      <td>2020.0</td>\n",
       "      <td>106800.0</td>\n",
       "      <td>501197.0</td>\n",
       "      <td>4.0</td>\n",
       "    </tr>\n",
       "  </tbody>\n",
       "</table>\n",
       "</div>"
      ],
      "text/plain": [
       "         year  selling_price  mi_driven   owner\n",
       "count  4340.0         4340.0     4340.0  4340.0\n",
       "mean   2013.0         6049.0    41144.0     1.0\n",
       "std       4.0         6943.0    28983.0     1.0\n",
       "min    1992.0          240.0        0.0     0.0\n",
       "25%    2011.0         2505.0    21747.0     1.0\n",
       "50%    2014.0         4200.0    37282.0     1.0\n",
       "75%    2016.0         7200.0    55923.0     2.0\n",
       "max    2020.0       106800.0   501197.0     4.0"
      ]
     },
     "execution_count": 55,
     "metadata": {},
     "output_type": "execute_result"
    }
   ],
   "source": [
    "car_data.describe().round()"
   ]
  },
  {
   "cell_type": "markdown",
   "id": "a59e4018",
   "metadata": {},
   "source": [
    "Looking at this description of the numerical data, there are some things I want to look into. First, the maximum value for miles driven is 501,197 miles when the 25th percentile is only 21,747. Also, the minimum year is 1992 when the 25th percentile is 2011. To see the full picture, I will create a box and whisker plot:"
   ]
  },
  {
   "cell_type": "code",
   "execution_count": 56,
   "id": "49adedb9",
   "metadata": {},
   "outputs": [
    {
     "data": {
      "image/png": "[encoded data removed]",
      "text/plain": [
       "<Figure size 432x288 with 3 Axes>"
      ]
     },
     "metadata": {
      "needs_background": "light"
     },
     "output_type": "display_data"
    }
   ],
   "source": [
    "plt.subplot(1,6,1)\n",
    "plt.boxplot(car_data.year, 'bo')\n",
    "plt.title('Year')\n",
    "plt.ylabel('Year')\n",
    "\n",
    "plt.subplot(1,6,3)\n",
    "plt.boxplot(car_data.selling_price, 'bo')\n",
    "plt.title('Price (USD)')\n",
    "plt.ylabel('Selling Price (USD)')\n",
    "\n",
    "plt.subplot(1,6,5)\n",
    "plt.boxplot(car_data.mi_driven, 'bo')\n",
    "plt.title('Miles')\n",
    "plt.ylabel('Miles')\n",
    "\n",
    "plt.show;"
   ]
  },
  {
   "cell_type": "markdown",
   "id": "f7745431",
   "metadata": {},
   "source": [
    "These plots show that there are a significant amount of outliers. I first take a look at cars that have more than 200,000 miles."
   ]
  },
  {
   "cell_type": "code",
   "execution_count": 57,
   "id": "c81ecca2",
   "metadata": {},
   "outputs": [
    {
     "name": "stdout",
     "output_type": "stream",
     "text": [
      "Number of cars with more than 200,000 miles:  7\n",
      "           name  year  selling_price  mi_driven    fuel seller_type  \\\n",
      "69    Chevrolet  2010           3360     217479  Diesel  Individual   \n",
      "525      Maruti  2016           7980     347967  Diesel      Dealer   \n",
      "1243     Maruti  2009           3000     501197  Petrol      Dealer   \n",
      "2394     Toyota  2009           4200     217479  Diesel  Individual   \n",
      "3679     Toyota  2006           4800     248548  Diesel  Individual   \n",
      "3718     Toyota  2009           5040     215671  Diesel      Dealer   \n",
      "4184     Maruti  2016           7980     347967  Diesel      Dealer   \n",
      "\n",
      "     transmission  owner car_class  \n",
      "69         Manual      2    Budget  \n",
      "525        Manual      1    Budget  \n",
      "1243       Manual      1    Budget  \n",
      "2394       Manual      1  Standard  \n",
      "3679       Manual      3  Standard  \n",
      "3718       Manual      1  Standard  \n",
      "4184       Manual      1    Budget  \n"
     ]
    }
   ],
   "source": [
    "print('Number of cars with more than 200,000 miles: ', len(car_data[car_data['mi_driven'] > 200000]))\n",
    "print(car_data[car_data['mi_driven'] > 200000])"
   ]
  },
  {
   "cell_type": "markdown",
   "id": "0258f2f4",
   "metadata": {},
   "source": [
    "Luckily, there are only 7. However, two seem to be identical, which tells me there may be duplicate entries in the dataset. I will explore this after addressing the outliers. Although the box and whisker plot shows many outliers, it seems reasonable that a used car can have 200,000 miles, so I will only remove these 7 values."
   ]
  },
  {
   "cell_type": "code",
   "execution_count": 58,
   "id": "5de0413e",
   "metadata": {},
   "outputs": [],
   "source": [
    "car_data = car_data[car_data['mi_driven'] < 200000]"
   ]
  },
  {
   "cell_type": "markdown",
   "id": "914517e9",
   "metadata": {},
   "source": [
    "Next I will remove cars that are more than 20 years old. A 20 year old car is considered a classic car, so 20 years or newer seems like a reasonable adjustment that will eliminate 61 cars."
   ]
  },
  {
   "cell_type": "code",
   "execution_count": 59,
   "id": "f564bb31",
   "metadata": {},
   "outputs": [
    {
     "name": "stdout",
     "output_type": "stream",
     "text": [
      "Number of cars older than 2002:  61\n"
     ]
    }
   ],
   "source": [
    "print('Number of cars older than 2002: ', len(car_data[car_data['year'] < 2002]))\n",
    "car_data = car_data[car_data['year'] > 2002]"
   ]
  },
  {
   "cell_type": "markdown",
   "id": "a853601b",
   "metadata": {},
   "source": [
    "Lastly, it seems unlikely that a used car would sell for more than 70,000 dollars unless it is an exclusive vehicle, so I will remove the 2 values that have a selling price over 70,000 dollars."
   ]
  },
  {
   "cell_type": "code",
   "execution_count": 60,
   "id": "76d65093",
   "metadata": {},
   "outputs": [
    {
     "name": "stdout",
     "output_type": "stream",
     "text": [
      "Number of cars priced at $65,000+:  3\n"
     ]
    }
   ],
   "source": [
    "print('Number of cars priced at $65,000+: ', len(car_data[car_data['selling_price'] > 65000]))\n",
    "car_data = car_data[car_data['selling_price'] < 65000]"
   ]
  },
  {
   "cell_type": "markdown",
   "id": "6b153ccd",
   "metadata": {},
   "source": [
    "### Handling Duplicate Values\n",
    "\n",
    "Since I saw a duplicate value when looking at the outliers, I wanted to be sure there are not a lot of duplicate values. To do this I will:\n",
    "\n",
    "1) Calculate the number of duplicate values.\n",
    "\n",
    "2) Remove duplicate values, because it seems unlikely that there would be cars for sale with the exact same milage, year, price, owner type, etc.\n",
    "\n"
   ]
  },
  {
   "cell_type": "code",
   "execution_count": 61,
   "id": "21de061d",
   "metadata": {},
   "outputs": [
    {
     "name": "stdout",
     "output_type": "stream",
     "text": [
      "There are  778 duplicate entries\n",
      "There are now  0 duplicate entries\n"
     ]
    }
   ],
   "source": [
    "#1) Counting Duplicate Values\n",
    "print('There are ', len(car_data[car_data.duplicated()]), 'duplicate entries')\n",
    "\n",
    "car_data = car_data.drop_duplicates()\n",
    "print('There are now ', len(car_data[car_data.duplicated()]), 'duplicate entries')"
   ]
  },
  {
   "cell_type": "markdown",
   "id": "641864c9",
   "metadata": {},
   "source": [
    "### Feature Importance\n",
    "\n",
    "Instead of using all data in the dataset, I think it would be more productive to narrow down some of the attributes. To do this I will,\n",
    "\n",
    "1) Remove all electric, natural gas, and propane gas vehicles (Fuel Type = Electric, CNG, and LPG)\n",
    "\n",
    "2) Merge Dealer with Trustmark Dealer (Seller Type = Dealer and Trustmark Dealer)\n",
    "\n",
    "3) Remove all cars that have 0 had owners (Test Drive Cars), because we are trying to predict used cars (owner > 0)\n",
    "\n",
    "4) Examine seller_type, and decide on it's usefulness"
   ]
  },
  {
   "cell_type": "code",
   "execution_count": 62,
   "id": "18f7adc2",
   "metadata": {},
   "outputs": [
    {
     "name": "stdout",
     "output_type": "stream",
     "text": [
      "Number of Electric Vehicles:  1\n",
      "Number of CNG Vehicles:  37\n",
      "Number of LPG Vehicles:  21 \n",
      "\n",
      "Number of Electric Vehicles:  0\n",
      "Number of CNG Vehicles:  0\n",
      "Number of LPG Vehicles:  0\n"
     ]
    }
   ],
   "source": [
    "print(\"Number of Electric Vehicles: \", len(car_data[car_data['fuel'] == 'Electric']))\n",
    "print(\"Number of CNG Vehicles: \",len(car_data[car_data['fuel'] == 'CNG']))\n",
    "print(\"Number of LPG Vehicles: \",len(car_data[car_data['fuel'] == 'LPG']), \"\\n\")\n",
    "\n",
    "car_data = car_data[car_data['fuel'] != 'CNG']\n",
    "car_data = car_data[car_data['fuel'] != 'LPG']\n",
    "car_data = car_data[car_data['fuel'] != 'Electric']\n",
    "\n",
    "print(\"Number of Electric Vehicles: \", len(car_data[car_data['fuel'] == 'Electric']))\n",
    "print(\"Number of CNG Vehicles: \",len (car_data[car_data['fuel'] == 'CNG']))\n",
    "print(\"Number of LPG Vehicles: \",len(car_data[car_data['fuel'] == 'LPG']))"
   ]
  },
  {
   "cell_type": "code",
   "execution_count": 63,
   "id": "2f918ece",
   "metadata": {},
   "outputs": [
    {
     "name": "stdout",
     "output_type": "stream",
     "text": [
      "Number of cars sold by Dealers:  692\n",
      "Number of cars sold by Trustmark Dealers:  33 \n",
      "\n",
      "Number of cars sold by Dealers:  725\n",
      "Number of cars sold by Trustmark Dealers:  0 \n",
      "\n"
     ]
    }
   ],
   "source": [
    "print(\"Number of cars sold by Dealers: \", len(car_data[car_data['seller_type'] == 'Dealer']))\n",
    "print(\"Number of cars sold by Trustmark Dealers: \", len(car_data[car_data['seller_type'] == 'Trustmark Dealer']), \"\\n\")\n",
    "\n",
    "car_data['seller_type'] = car_data['seller_type'].map({'Trustmark Dealer': 'Dealer', 'Dealer':'Dealer', 'Individual': 'Individual'})\n",
    "\n",
    "print(\"Number of cars sold by Dealers: \", len(car_data[car_data['seller_type'] == 'Dealer']))\n",
    "print(\"Number of cars sold by Trustmark Dealers: \", (car_data[car_data['seller_type'] == 'Trustmark Dealer']).size, \"\\n\")"
   ]
  },
  {
   "cell_type": "code",
   "execution_count": 64,
   "id": "aa3ef4a1",
   "metadata": {},
   "outputs": [
    {
     "name": "stdout",
     "output_type": "stream",
     "text": [
      "Number of test drive cars:  17\n",
      "Number of test drive cars:  0\n"
     ]
    }
   ],
   "source": [
    "print(\"Number of test drive cars: \", len(car_data[car_data['owner'] == 0]))\n",
    "car_data = car_data[car_data['owner'] != 0]\n",
    "print(\"Number of test drive cars: \", len(car_data[car_data['owner'] == 0]))"
   ]
  },
  {
   "cell_type": "code",
   "execution_count": 26,
   "id": "39692f3d",
   "metadata": {},
   "outputs": [
    {
     "data": {
      "image/png": "[encoded data removed]",
      "text/plain": [
       "<Figure size 432x288 with 1 Axes>"
      ]
     },
     "metadata": {
      "needs_background": "light"
     },
     "output_type": "display_data"
    }
   ],
   "source": [
    "plt.plot(car_data.seller_type, car_data.selling_price, 'bo')\n",
    "plt.ylabel('Selling Price')\n",
    "plt.xlabel('Seller Type');"
   ]
  },
  {
   "cell_type": "markdown",
   "id": "df73dcf3",
   "metadata": {},
   "source": [
    "Based on this plot of selling price based on seller type, it appears that seller_type has little importance in determining the selling price. I may want to remove this feature, but I am curious to examine how it impacts the adjusted R^2 value if I include it in my model so I will keep it for now, but I will most likely remove it."
   ]
  },
  {
   "cell_type": "markdown",
   "id": "e755ff55",
   "metadata": {},
   "source": [
    "# Examining Distribution of the Data\n",
    "\n",
    "Based on the long tails in plots below, it is clear that there are still outliers that may impact the analysis. However, I am hoping that classifying vehicles as luxury, standard, or buget will help account for the large tails in the price distribution."
   ]
  },
  {
   "cell_type": "code",
   "execution_count": 65,
   "id": "0d84effc",
   "metadata": {},
   "outputs": [
    {
     "data": {
      "image/png": "[encoded data removed]",
      "text/plain": [
       "<Figure size 432x288 with 3 Axes>"
      ]
     },
     "metadata": {
      "needs_background": "light"
     },
     "output_type": "display_data"
    }
   ],
   "source": [
    "plt.subplot(1,3,1)\n",
    "plt.hist(car_data.year, bins=(car_data.year.max()-car_data.year.min()))\n",
    "plt.title('Year')\n",
    "plt.ylabel('Number of Cars')\n",
    "plt.xlabel('Year')\n",
    "\n",
    "plt.subplot(1,3,2)\n",
    "plt.hist(car_data.selling_price)\n",
    "plt.title('Price')\n",
    "plt.ylabel('Number of Cars')\n",
    "plt.xlabel('Price')\n",
    "\n",
    "plt.subplot(1,3,3)\n",
    "plt.hist(car_data.mi_driven);\n",
    "plt.title('Miles Driven')\n",
    "plt.ylabel('Number of Cars')\n",
    "plt.xlabel('Miles')\n",
    "\n",
    "plt.subplots_adjust(wspace=1)\n",
    "plt.show()\n",
    "\n"
   ]
  },
  {
   "cell_type": "markdown",
   "id": "04ede9d9",
   "metadata": {},
   "source": [
    "# Examining Correlations\n",
    "\n",
    "Now that the data is clean, I want to take a look at the overall correlations of the numerical data:"
   ]
  },
  {
   "cell_type": "code",
   "execution_count": 66,
   "id": "bf24e52a",
   "metadata": {},
   "outputs": [
    {
     "name": "stdout",
     "output_type": "stream",
     "text": [
      "                   year  selling_price  mi_driven     owner\n",
      "year           1.000000       0.451812  -0.472280 -0.449540\n",
      "selling_price  0.451812       1.000000  -0.198405 -0.236731\n",
      "mi_driven     -0.472280      -0.198405   1.000000  0.347526\n",
      "owner         -0.449540      -0.236731   0.347526  1.000000\n"
     ]
    },
    {
     "data": {
      "image/png": "[encoded data removed]",
      "text/plain": [
       "<Figure size 432x288 with 2 Axes>"
      ]
     },
     "metadata": {
      "needs_background": "light"
     },
     "output_type": "display_data"
    }
   ],
   "source": [
    "sns.heatmap(car_data.corr());\n",
    "print(car_data.corr())"
   ]
  },
  {
   "cell_type": "markdown",
   "id": "ddfc8787",
   "metadata": {},
   "source": [
    "As we can see in the plots, years is the variable that is most correlated with selling price. I am assuming this will result in year being the feature that results in the largest adjusted R^2 value in the forward selection model. Year is also significantly coorilated with all other variables, but I don't think that it is so significant that it will result in problematic multicolinearity.\n",
    "\n",
    "\n",
    "Interestingly, miles driven is not as corrilated with selling price. I assumed that would be one of the more significant variable in the model. significantly coordinated with the other numerical variables."
   ]
  },
  {
   "cell_type": "markdown",
   "id": "99ba471d",
   "metadata": {},
   "source": [
    "# Comparing Forward & Backward Selection Models"
   ]
  },
  {
   "cell_type": "markdown",
   "id": "9c9ff3b1",
   "metadata": {},
   "source": [
    "## Forward Selection Model"
   ]
  },
  {
   "cell_type": "code",
   "execution_count": 67,
   "id": "7038439c",
   "metadata": {},
   "outputs": [
    {
     "name": "stdout",
     "output_type": "stream",
     "text": [
      "Model Attributes: ['name'] -- 0.45\n",
      "Model Attributes: ['name', 'year'] -- 0.633\n",
      "Model Attributes: ['name', 'year', 'mi_driven'] -- 0.507\n",
      "Model Attributes: ['name', 'year', 'mi_driven', 'owner'] -- 0.5\n",
      "Model Attributes: ['name', 'year', 'mi_driven', 'owner', 'transmission'] -- 0.493\n",
      "Model Attributes: ['name', 'year', 'mi_driven', 'owner', 'transmission', 'fuel'] -- 0.48\n",
      "Model Attributes: ['name', 'year', 'mi_driven', 'owner', 'transmission', 'fuel', 'seller_type'] -- 0.457\n",
      "Model Attributes: ['name', 'year', 'mi_driven', 'owner', 'transmission', 'fuel', 'seller_type', 'car_class'] -- 0.45\n"
     ]
    }
   ],
   "source": [
    "possible_attributes = list(car_data.columns)\n",
    "possible_attributes.remove('selling_price')\n",
    "\n",
    "best_r_sqrd_adj = 0\n",
    "model_attributes = []\n",
    "best_attribute = ''\n",
    "adj_r_sq_data = []\n",
    "\n",
    "model_str = 'selling_price~'\n",
    "\n",
    "while len(possible_attributes) > 0:\n",
    "    for attribute in possible_attributes:\n",
    "        tmp_str = model_str+attribute\n",
    "    \n",
    "        forward_model = smf.ols(formula=tmp_str, data=car_data).fit()\n",
    "    \n",
    "        if forward_model.rsquared_adj > best_r_sqrd_adj:\n",
    "        \n",
    "            best_attribute = attribute\n",
    "            best_r_sqrd_adj = forward_model.rsquared_adj\n",
    "        \n",
    "    model_attributes.append(best_attribute)\n",
    "    model_str = model_str+model_attributes[0]+'+'\n",
    "    adj_r_sq_data.append(best_r_sqrd_adj)\n",
    "    print(\"Model Attributes:\", model_attributes, \"--\", best_r_sqrd_adj.round(3))\n",
    "    possible_attributes.remove(best_attribute)\n",
    "    best_r_sqrd_adj = 0"
   ]
  },
  {
   "cell_type": "markdown",
   "id": "d783784e",
   "metadata": {},
   "source": [
    "The forward model indentified the model with the highest adjusted R^2 as:\n",
    "\n",
    "Selling_Price = b_0 + b_1*(name) + b_2*(year)"
   ]
  },
  {
   "cell_type": "code",
   "execution_count": 68,
   "id": "dbdfd314",
   "metadata": {},
   "outputs": [
    {
     "name": "stdout",
     "output_type": "stream",
     "text": [
      "                            OLS Regression Results                            \n",
      "==============================================================================\n",
      "Dep. Variable:          selling_price   R-squared:                       0.636\n",
      "Model:                            OLS   Adj. R-squared:                  0.633\n",
      "Method:                 Least Squares   F-statistic:                     210.1\n",
      "Date:                Mon, 12 Dec 2022   Prob (F-statistic):               0.00\n",
      "Time:                        19:20:24   Log-Likelihood:                -32419.\n",
      "No. Observations:                3394   AIC:                         6.490e+04\n",
      "Df Residuals:                    3365   BIC:                         6.507e+04\n",
      "Df Model:                          28                                         \n",
      "Covariance Type:            nonrobust                                         \n",
      "=========================================================================================\n",
      "                            coef    std err          t      P>|t|      [0.025      0.975]\n",
      "-----------------------------------------------------------------------------------------\n",
      "Intercept             -1.286e+06   3.16e+04    -40.730      0.000   -1.35e+06   -1.22e+06\n",
      "name[T.Audi]           1.694e+04   2498.147      6.783      0.000     1.2e+04    2.18e+04\n",
      "name[T.BMW]            2.011e+04   2513.865      7.999      0.000    1.52e+04     2.5e+04\n",
      "name[T.Chevrolet]     -2598.8110   2434.381     -1.068      0.286   -7371.827    2174.205\n",
      "name[T.Datsun]        -4887.4032   2502.696     -1.953      0.051   -9794.363      19.556\n",
      "name[T.Fiat]          -2121.4781   2492.584     -0.851      0.395   -7008.611    2765.655\n",
      "name[T.Force]         -2678.2358   4188.234     -0.639      0.523   -1.09e+04    5533.505\n",
      "name[T.Ford]            -16.7803   2430.539     -0.007      0.994   -4782.263    4748.703\n",
      "name[T.Honda]          -320.0341   2430.448     -0.132      0.895   -5085.339    4445.271\n",
      "name[T.Hyundai]       -1357.5535   2422.769     -0.560      0.575   -6107.802    3392.695\n",
      "name[T.Isuzu]          8602.3201   4189.993      2.053      0.040     387.130    1.68e+04\n",
      "name[T.Jaguar]          1.92e+04   2861.090      6.711      0.000    1.36e+04    2.48e+04\n",
      "name[T.Jeep]           8962.3201   3124.613      2.868      0.004    2835.987    1.51e+04\n",
      "name[T.Kia]            5560.4590   4190.579      1.327      0.185   -2655.880    1.38e+04\n",
      "name[T.Land]           3.597e+04   2862.206     12.569      0.000    3.04e+04    4.16e+04\n",
      "name[T.MG]             1.207e+04   3422.912      3.526      0.000    5359.261    1.88e+04\n",
      "name[T.Mahindra]        565.1827   2426.488      0.233      0.816   -4192.358    5322.724\n",
      "name[T.Maruti]        -1986.5227   2421.046     -0.821      0.412   -6733.394    2760.348\n",
      "name[T.Mercedes-Benz]  1.772e+04   2556.535      6.932      0.000    1.27e+04    2.27e+04\n",
      "name[T.Mitsubishi]     5339.7196   2860.729      1.867      0.062    -269.225    1.09e+04\n",
      "name[T.Nissan]        -1321.1449   2465.105     -0.536      0.592   -6154.401    3512.111\n",
      "name[T.OpelCorsa]      1292.3747   4187.941      0.309      0.758   -6918.791    9503.541\n",
      "name[T.Renault]       -2947.9374   2442.550     -1.207      0.228   -7736.970    1841.095\n",
      "name[T.Skoda]           229.7421   2468.042      0.093      0.926   -4609.272    5068.756\n",
      "name[T.Tata]          -2429.8379   2426.241     -1.001      0.317   -7186.895    2327.219\n",
      "name[T.Toyota]         4103.9987   2433.168      1.687      0.092    -666.640    8874.637\n",
      "name[T.Volkswagen]     -952.6600   2444.857     -0.390      0.697   -5746.215    3840.895\n",
      "name[T.Volvo]          2.304e+04   2962.790      7.777      0.000    1.72e+04    2.89e+04\n",
      "year                    641.8610     15.672     40.955      0.000     611.133     672.589\n",
      "==============================================================================\n",
      "Omnibus:                     2175.868   Durbin-Watson:                   1.926\n",
      "Prob(Omnibus):                  0.000   Jarque-Bera (JB):            53883.272\n",
      "Skew:                           2.638   Prob(JB):                         0.00\n",
      "Kurtosis:                      21.793   Cond. No.                     1.08e+06\n",
      "==============================================================================\n",
      "\n",
      "Notes:\n",
      "[1] Standard Errors assume that the covariance matrix of the errors is correctly specified.\n",
      "[2] The condition number is large, 1.08e+06. This might indicate that there are\n",
      "strong multicollinearity or other numerical problems.\n"
     ]
    }
   ],
   "source": [
    "forward_model = smf.ols(formula='selling_price~name+year', data=car_data).fit()\n",
    "print(forward_model.summary())"
   ]
  },
  {
   "cell_type": "markdown",
   "id": "324f0ab1",
   "metadata": {},
   "source": [
    "## Backward Selection Model"
   ]
  },
  {
   "cell_type": "code",
   "execution_count": 69,
   "id": "f420b12e",
   "metadata": {},
   "outputs": [
    {
     "name": "stdout",
     "output_type": "stream",
     "text": [
      "K = 8\n",
      "['name', 'year', 'mi_driven', 'fuel', 'seller_type', 'transmission', 'owner', 'car_class']  --  0.6842\n",
      "K = 7\n",
      "['name', 'year', 'mi_driven', 'fuel', 'transmission', 'owner', 'car_class']  --  0.6843\n",
      "K = 6\n",
      "['name', 'year', 'mi_driven', 'fuel', 'transmission', 'owner']  --  0.6843\n",
      "K = 5\n",
      "['name', 'year', 'mi_driven', 'fuel', 'transmission']  --  0.6833\n",
      "K = 4\n",
      "['name', 'year', 'fuel', 'transmission']  --  0.6761\n",
      "K = 3\n",
      "['name', 'year', 'transmission']  --  0.6558\n",
      "K = 2\n",
      "['name', 'year']  --  0.6331\n",
      "K = 1\n",
      "['name']  --  0.4503\n"
     ]
    }
   ],
   "source": [
    "possible_attributes = list(car_data.columns)\n",
    "possible_attributes.remove('selling_price')\n",
    "\n",
    "best_r_sqrd_adj = 0\n",
    "model_attribute = ''\n",
    "absent_var = ''\n",
    "\n",
    "def create_model_string(atr_list):\n",
    "    mod_string = \"selling_price~\"\n",
    "    for atr in atr_list:\n",
    "        mod_string = mod_string+atr+'+'\n",
    "    mod_string = mod_string[:-1]\n",
    "    return mod_string\n",
    "\n",
    "for k in range(len(possible_attributes), 0, -1):\n",
    "    print('K =', k)\n",
    "    if k == len(possible_attributes):\n",
    "        model_string = create_model_string(possible_attributes)\n",
    "        backward_model = smf.ols(formula=model_string, data=car_data).fit()\n",
    "        best_r_sqrd_adj = backward_model.rsquared_adj\n",
    "        \n",
    "    else:\n",
    "        best_r_sqrd_adj = 0\n",
    "        for i in range(len(possible_attributes)):\n",
    "            absent_var = possible_attributes[i]\n",
    "            tmp_list = possible_attributes[:]\n",
    "            tmp_list.remove(absent_var)\n",
    "            tmp_str = create_model_string(tmp_list)\n",
    "    \n",
    "            backward_model = smf.ols(formula=tmp_str, data=car_data).fit()\n",
    "\n",
    "            if backward_model.rsquared_adj > best_r_sqrd_adj:\n",
    "\n",
    "                worst_attribute = absent_var\n",
    "                best_r_sqrd_adj = backward_model.rsquared_adj\n",
    "       \n",
    "        possible_attributes.remove(worst_attribute)\n",
    "    print(possible_attributes, \" -- \", best_r_sqrd_adj.round(4))"
   ]
  },
  {
   "cell_type": "markdown",
   "id": "b26ff42c",
   "metadata": {},
   "source": [
    "The backward model indentified the k=6 model with the highest adjusted R^2 as:\n",
    "\n",
    "Selling_Price = b_0 + b_1*(name) + b_2*(year) + b_3*(mi_driven) + b_4*(fuel) + b_5*(transmission) + b_6*(owner)"
   ]
  },
  {
   "cell_type": "code",
   "execution_count": 70,
   "id": "ff2f41ea",
   "metadata": {},
   "outputs": [
    {
     "name": "stdout",
     "output_type": "stream",
     "text": [
      "                            OLS Regression Results                            \n",
      "==============================================================================\n",
      "Dep. Variable:          selling_price   R-squared:                       0.687\n",
      "Model:                            OLS   Adj. R-squared:                  0.684\n",
      "Method:                 Least Squares   F-statistic:                     230.8\n",
      "Date:                Mon, 12 Dec 2022   Prob (F-statistic):               0.00\n",
      "Time:                        19:20:38   Log-Likelihood:                -32161.\n",
      "No. Observations:                3394   AIC:                         6.439e+04\n",
      "Df Residuals:                    3361   BIC:                         6.459e+04\n",
      "Df Model:                          32                                         \n",
      "Covariance Type:            nonrobust                                         \n",
      "==========================================================================================\n",
      "                             coef    std err          t      P>|t|      [0.025      0.975]\n",
      "------------------------------------------------------------------------------------------\n",
      "Intercept              -9.709e+05   3.69e+04    -26.342      0.000   -1.04e+06   -8.99e+05\n",
      "name[T.Audi]             1.32e+04   2329.004      5.668      0.000    8634.684    1.78e+04\n",
      "name[T.BMW]               1.6e+04   2343.584      6.828      0.000    1.14e+04    2.06e+04\n",
      "name[T.Chevrolet]      -2087.2290   2259.184     -0.924      0.356   -6516.744    2342.286\n",
      "name[T.Datsun]         -3255.1933   2323.574     -1.401      0.161   -7810.956    1300.569\n",
      "name[T.Fiat]           -1842.7467   2313.343     -0.797      0.426   -6378.448    2692.955\n",
      "name[T.Force]          -3403.9064   3885.671     -0.876      0.381    -1.1e+04    4214.612\n",
      "name[T.Ford]              49.7627   2255.764      0.022      0.982   -4373.047    4472.572\n",
      "name[T.Honda]            294.5589   2255.814      0.131      0.896   -4128.349    4717.466\n",
      "name[T.Hyundai]         -558.8627   2248.594     -0.249      0.804   -4967.613    3849.888\n",
      "name[T.Isuzu]           8524.0970   3887.280      2.193      0.028     902.424    1.61e+04\n",
      "name[T.Jaguar]          1.571e+04   2663.536      5.898      0.000    1.05e+04    2.09e+04\n",
      "name[T.Jeep]            9466.4565   2898.831      3.266      0.001    3782.805    1.52e+04\n",
      "name[T.Kia]             1471.6341   3893.317      0.378      0.705   -6161.876    9105.144\n",
      "name[T.Land]            3.275e+04   2666.857     12.282      0.000    2.75e+04     3.8e+04\n",
      "name[T.MG]              1.107e+04   3176.841      3.484      0.001    4838.316    1.73e+04\n",
      "name[T.Mahindra]         392.7040   2252.875      0.174      0.862   -4024.441    4809.849\n",
      "name[T.Maruti]         -1056.0780   2247.076     -0.470      0.638   -5461.853    3349.697\n",
      "name[T.Mercedes-Benz]   1.394e+04   2381.809      5.852      0.000    9269.535    1.86e+04\n",
      "name[T.Mitsubishi]      5334.6619   2659.638      2.006      0.045     119.990    1.05e+04\n",
      "name[T.Nissan]          -838.9409   2288.032     -0.367      0.714   -5325.016    3647.134\n",
      "name[T.OpelCorsa]       2597.6929   3887.678      0.668      0.504   -5024.760    1.02e+04\n",
      "name[T.Renault]        -2135.3643   2266.969     -0.942      0.346   -6580.142    2309.414\n",
      "name[T.Skoda]           -918.6290   2292.832     -0.401      0.689   -5414.117    3576.859\n",
      "name[T.Tata]           -2002.2895   2251.812     -0.889      0.374   -6417.350    2412.771\n",
      "name[T.Toyota]          4239.4550   2260.047      1.876      0.061    -191.751    8670.661\n",
      "name[T.Volkswagen]     -1054.6081   2269.632     -0.465      0.642   -5504.607    3395.391\n",
      "name[T.Volvo]           1.952e+04   2759.622      7.073      0.000    1.41e+04    2.49e+04\n",
      "fuel[T.Petrol]         -2240.2920    132.452    -16.914      0.000   -2499.987   -1980.597\n",
      "transmission[T.Manual] -3774.6238    229.595    -16.440      0.000   -4224.784   -3324.464\n",
      "year                     488.0650     18.251     26.741      0.000     452.280     523.850\n",
      "mi_driven                 -0.0209      0.003     -8.172      0.000      -0.026      -0.016\n",
      "owner                   -289.2079     86.695     -3.336      0.001    -459.188    -119.228\n",
      "==============================================================================\n",
      "Omnibus:                     2112.981   Durbin-Watson:                   1.940\n",
      "Prob(Omnibus):                  0.000   Jarque-Bera (JB):            58720.528\n",
      "Skew:                           2.485   Prob(JB):                         0.00\n",
      "Kurtosis:                      22.762   Cond. No.                     3.44e+07\n",
      "==============================================================================\n",
      "\n",
      "Notes:\n",
      "[1] Standard Errors assume that the covariance matrix of the errors is correctly specified.\n",
      "[2] The condition number is large, 3.44e+07. This might indicate that there are\n",
      "strong multicollinearity or other numerical problems.\n"
     ]
    }
   ],
   "source": [
    "backward_model = smf.ols(formula='selling_price~name+year+mi_driven+fuel+transmission+owner', data=car_data).fit()\n",
    "print(backward_model.summary())"
   ]
  },
  {
   "cell_type": "markdown",
   "id": "e3916a7a",
   "metadata": {},
   "source": [
    "## Forward and Backward Selection Model Comparison\n",
    "\n",
    "My forward model resulted in a maximum adjusted R^2 of 0.633 when there were 2 attributes -- brand name and year. My backward model resulted in a maxuimum adjusted R^2 of 0.684. This occured when there were 7 and 6 attributes, because car_class is derrived from brand name so when it is droppped from the model, the adjusted R^2 remained identical. Thus, the backward selection model with 6 parameters is the best model that maximized the adjusted R^2 parameter.\n",
    "\n",
    "One concerning thing I notice is that both the forward and backward selection models contained a note that the condition number is large and may indicate that there is strong multicolinearity. I was worried about this, because it seemed that year was significantly correlated with the other numerical variables when I saw the correlation matrix.\n",
    "\n",
    "I considered dropping year, but after experimenting with the parameters, it was hard to find a model that included name, car_class, year, or mi_driven that did not result in this error. I am going to move forward despite the warning, because all coefficients are still statistically significant, meaning the entirety of the impact is not captured in one variable and including the others still adds value to the model. This could cause issues when interpreting the coefficients of each variable, but dropping variables to aviod this resulted in a significantly lower adjusted R^2 value."
   ]
  },
  {
   "cell_type": "markdown",
   "id": "1e1e050e",
   "metadata": {},
   "source": [
    "## Optimizing Model\n",
    "\n",
    "I thought it was interesting that the luxury brands were the only names that were statistically significant at the 99% level in my forward and backward selection models when looking at the brand name coefficients. Most other car brands were not statistically significant. This made me reconsider using brand name as a predictor even though it is better for prediction overall compared to car_class. Considering the adjusted R^2 only decreases by 5.5 when using car_class instead of brand name, the tradeoff will be worth it due to the increased interpretability of the model. By doing this the number of coefficients was reduced by 25.\n",
    "\n",
    "After thinking about how I could improve my model, I wanted to see if adding an interaction variable would be productive. If a car is a luxury vehicle and also new, it will be much more expensive. Similarly, if a car is not a luxury vehicle and very old, it will be less expensive on average. This seemed like a reasonable assumption, so I will add an interaction between car_class and year to try and capture the data at the tails."
   ]
  },
  {
   "cell_type": "code",
   "execution_count": 77,
   "id": "6501d364",
   "metadata": {},
   "outputs": [
    {
     "name": "stdout",
     "output_type": "stream",
     "text": [
      "                            OLS Regression Results                            \n",
      "==============================================================================\n",
      "Dep. Variable:          selling_price   R-squared:                       0.677\n",
      "Model:                            OLS   Adj. R-squared:                  0.676\n",
      "Method:                 Least Squares   F-statistic:                     787.4\n",
      "Date:                Mon, 12 Dec 2022   Prob (F-statistic):               0.00\n",
      "Time:                        19:36:42   Log-Likelihood:                -32217.\n",
      "No. Observations:                3394   AIC:                         6.445e+04\n",
      "Df Residuals:                    3384   BIC:                         6.452e+04\n",
      "Df Model:                           9                                         \n",
      "Covariance Type:            nonrobust                                         \n",
      "==============================================================================================\n",
      "                                 coef    std err          t      P>|t|      [0.025      0.975]\n",
      "----------------------------------------------------------------------------------------------\n",
      "Intercept                  -6.988e+05   4.52e+04    -15.457      0.000   -7.87e+05    -6.1e+05\n",
      "car_class[T.Luxury]        -4.197e+06   2.02e+05    -20.767      0.000   -4.59e+06    -3.8e+06\n",
      "car_class[T.Standard]      -4.802e+05   5.92e+04     -8.116      0.000   -5.96e+05   -3.64e+05\n",
      "fuel[T.Petrol]             -2283.0456    124.630    -18.319      0.000   -2527.402   -2038.689\n",
      "transmission[T.Manual]     -4282.7843    226.266    -18.928      0.000   -4726.416   -3839.152\n",
      "year                         352.1953     22.411     15.716      0.000     308.256     396.135\n",
      "car_class[T.Luxury]:year    2092.0980    100.344     20.849      0.000    1895.356    2288.840\n",
      "car_class[T.Standard]:year   239.3458     29.389      8.144      0.000     181.724     296.968\n",
      "mi_driven                     -0.0101      0.003     -3.954      0.000      -0.015      -0.005\n",
      "owner                       -279.7588     87.603     -3.193      0.001    -451.519    -107.999\n",
      "==============================================================================\n",
      "Omnibus:                     1903.879   Durbin-Watson:                   1.962\n",
      "Prob(Omnibus):                  0.000   Jarque-Bera (JB):            40529.905\n",
      "Skew:                           2.223   Prob(JB):                         0.00\n",
      "Kurtosis:                      19.335   Cond. No.                     1.87e+08\n",
      "==============================================================================\n",
      "\n",
      "Notes:\n",
      "[1] Standard Errors assume that the covariance matrix of the errors is correctly specified.\n",
      "[2] The condition number is large, 1.87e+08. This might indicate that there are\n",
      "strong multicollinearity or other numerical problems.\n"
     ]
    }
   ],
   "source": [
    "backward_model = smf.ols(formula='selling_price~car_class*year+mi_driven+fuel+transmission+owner', data=car_data).fit()\n",
    "print(backward_model.summary())"
   ]
  },
  {
   "cell_type": "markdown",
   "id": "3fc8c8e6",
   "metadata": {},
   "source": [
    "# Final Model"
   ]
  },
  {
   "cell_type": "code",
   "execution_count": 72,
   "id": "8ee4aa6a",
   "metadata": {},
   "outputs": [
    {
     "name": "stdout",
     "output_type": "stream",
     "text": [
      "                            OLS Regression Results                            \n",
      "==============================================================================\n",
      "Dep. Variable:          selling_price   R-squared:                       0.674\n",
      "Model:                            OLS   Adj. R-squared:                  0.673\n",
      "Method:                 Least Squares   F-statistic:                     999.7\n",
      "Date:                Mon, 12 Dec 2022   Prob (F-statistic):               0.00\n",
      "Time:                        19:20:56   Log-Likelihood:                -32232.\n",
      "No. Observations:                3394   AIC:                         6.448e+04\n",
      "Df Residuals:                    3386   BIC:                         6.453e+04\n",
      "Df Model:                           7                                         \n",
      "Covariance Type:            nonrobust                                         \n",
      "==============================================================================================\n",
      "                                 coef    std err          t      P>|t|      [0.025      0.975]\n",
      "----------------------------------------------------------------------------------------------\n",
      "Intercept                  -8.032e+05   4.12e+04    -19.486      0.000   -8.84e+05   -7.22e+05\n",
      "car_class[T.Luxury]        -4.218e+06   2.03e+05    -20.789      0.000   -4.62e+06   -3.82e+06\n",
      "car_class[T.Standard]      -5.172e+05    5.9e+04     -8.764      0.000   -6.33e+05   -4.02e+05\n",
      "fuel[T.Petrol]             -2050.4754    113.690    -18.036      0.000   -2273.383   -1827.568\n",
      "transmission[T.Manual]     -4311.3425    227.074    -18.986      0.000   -4756.559   -3866.126\n",
      "year                         403.6014     20.464     19.722      0.000     363.478     443.725\n",
      "car_class[T.Luxury]:year    2102.4672    100.737     20.871      0.000    1904.956    2299.979\n",
      "car_class[T.Standard]:year   257.7114     29.313      8.792      0.000     200.238     315.185\n",
      "==============================================================================\n",
      "Omnibus:                     1892.127   Durbin-Watson:                   1.961\n",
      "Prob(Omnibus):                  0.000   Jarque-Bera (JB):            39530.293\n",
      "Skew:                           2.210   Prob(JB):                         0.00\n",
      "Kurtosis:                      19.125   Cond. No.                     8.46e+06\n",
      "==============================================================================\n",
      "\n",
      "Notes:\n",
      "[1] Standard Errors assume that the covariance matrix of the errors is correctly specified.\n",
      "[2] The condition number is large, 8.46e+06. This might indicate that there are\n",
      "strong multicollinearity or other numerical problems.\n"
     ]
    }
   ],
   "source": [
    "final_model = smf.ols(formula='selling_price~car_class*year+fuel+transmission', data=car_data).fit()\n",
    "print(final_model.summary())"
   ]
  },
  {
   "cell_type": "markdown",
   "id": "d538dd7e",
   "metadata": {},
   "source": [
    "# Summary\n",
    "\n",
    "The summary for the final model that I chose is printed above. I ended up using:\n",
    "\n",
    "Selling_Price = b_0 + (b_1*(car_class) * b_2*(year)) + b_3*(fuel) + b_4*(transmission) \n",
    "\n",
    "I removed mi_driven and owner from the model above, because they only increased the adjusted R^2 by 0.003 when they were included. I felt making the model simpler was defintely worth that small tradeoff. I was surprised that mi_driven didn't really impact the model in the end. I guess that information was already captured in the other variables through correlations, which is maybe why it didn't really add any value in my final model. The final model still contains a note about possible multicolinearity. However, all coefficients are reasonably large and statistically significant. They also conceptually do not seem related in a way that would be problematic. This does complicate the interpretability of the model coefficients, but overall I think this model does a good job balancing prediction and interpretability.\n",
    "\n",
    "Another thing I thought was interesting was the difference between the forward and backward models. The backward model performed much better with a larger number of parameters, and arrived at the same conclusion when k was 1 or 2. I am wondering if the correlation of mi_driven with other variables caused this. In the forward model, it was selected as the 3rd variable, which I think threw off the model as more correlated variables were added. By trying both strategies, I definitely learned that it is worthwhile to comapre the two when building a model. If I had just used  forward selection, my model would have not been as good."
   ]
  },
  {
   "cell_type": "code",
   "execution_count": 78,
   "id": "c5961652",
   "metadata": {},
   "outputs": [
    {
     "data": {
      "text/plain": [
       "0     6791.600277\n",
       "1    36846.882094\n",
       "2     4397.267573\n",
       "dtype: float64"
      ]
     },
     "execution_count": 78,
     "metadata": {},
     "output_type": "execute_result"
    }
   ],
   "source": [
    "car = pd.DataFrame({'car_class':    ['Standard',  'Luxury',    'Budget'],\n",
    "                    'year':         [2010,         2019,        2006], \n",
    "                    'fuel':         ['Petrol',    'Petrol',    'Petrol'], \n",
    "                    'transmission': ['Automatic', 'Automatic', 'Automatic']})\n",
    "final_model.predict(car)"
   ]
  },
  {
   "cell_type": "code",
   "execution_count": null,
   "id": "e7369635",
   "metadata": {},
   "outputs": [],
   "source": []
  }
 ],
 "metadata": {
  "kernelspec": {
   "display_name": "Python 3 (ipykernel)",
   "language": "python",
   "name": "python3"
  },
  "language_info": {
   "codemirror_mode": {
    "name": "ipython",
    "version": 3
   },
   "file_extension": ".py",
   "mimetype": "text/x-python",
   "name": "python",
   "nbconvert_exporter": "python",
   "pygments_lexer": "ipython3",
   "version": "3.9.7"
  }
 },
 "nbformat": 4,
 "nbformat_minor": 5
}
